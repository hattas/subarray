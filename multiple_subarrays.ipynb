{
 "cells": [
  {
   "cell_type": "markdown",
   "metadata": {},
   "source": [
    "# Multiple Max Subarray Algorithm\n",
    "This is the start of our multiple buy and sell max subarray algorithm.\n",
    "\n",
    "It is messy and needs to be cleaned up and variables renamed."
   ]
  },
  {
   "cell_type": "code",
   "execution_count": 1,
   "metadata": {},
   "outputs": [],
   "source": [
    "import matplotlib.pyplot as plt\n",
    "import matplotlib.ticker as ticker\n",
    "from algs import find_maximum_subarray\n",
    "import pandas as pd\n",
    "from data import *\n",
    "from algs import *\n",
    "from plot import *"
   ]
  },
  {
   "cell_type": "code",
   "execution_count": 3,
   "metadata": {},
   "outputs": [],
   "source": [
    "def split_region(data, low=None, high=None):\n",
    "    if low == None:\n",
    "        low = data.index[0] + 1\n",
    "    if high == None:\n",
    "        high = data.index[-1]\n",
    "    \n",
    "    # find indices of max subarray\n",
    "    gain = find_maximum_subarray(data.change, low, high)\n",
    "    \n",
    "    # find indices of min subarray within max subarray above\n",
    "    loss = find_maximum_subarray(-data.change, gain['low'], gain['high'])\n",
    "    \n",
    "    # find indices of left and right max subarray\n",
    "    # the split max subarrays are \n",
    "    left_split = find_maximum_subarray(data.change, gain['low'], loss['low']-1)\n",
    "    right_split = find_maximum_subarray(data.change, loss['high'], gain['high'])\n",
    "    \n",
    "    return left_split, right_split\n",
    "\n",
    "def get_splits(data, num_splits):\n",
    "    '''num_splits is the number of times to split the region list in half\n",
    "    if there will be 2^num_splits regions at the end'''\n",
    "    \n",
    "    for i in range(num_splits):\n",
    "        # on the first run, split into the first 2 regions\n",
    "        if i == 0:\n",
    "            split_regions = list(split_region(data))\n",
    "        # on successive runs, split each already split region\n",
    "        else:\n",
    "            new_split_regions = []\n",
    "            for region in split_regions:\n",
    "                new_split_regions = new_split_regions + list(split_region(data, region['low'], region['high']))\n",
    "            split_regions = new_split_regions\n",
    "\n",
    "    # convert list of dicts to dataframe\n",
    "    split_regions = pd.DataFrame(split_regions)\n",
    "    \n",
    "    return split_regions"
   ]
  },
  {
   "cell_type": "code",
   "execution_count": 4,
   "metadata": {},
   "outputs": [],
   "source": [
    "symbol = 'AAPL'\n",
    "date_data = get_full_df(symbol)\n",
    "date_data = get_years(date_data, 2)\n",
    "data = date_data.reset_index()"
   ]
  },
  {
   "cell_type": "code",
   "execution_count": 5,
   "metadata": {},
   "outputs": [
    {
     "data": {
      "text/html": [
       "<div>\n",
       "<style scoped>\n",
       "    .dataframe tbody tr th:only-of-type {\n",
       "        vertical-align: middle;\n",
       "    }\n",
       "\n",
       "    .dataframe tbody tr th {\n",
       "        vertical-align: top;\n",
       "    }\n",
       "\n",
       "    .dataframe thead th {\n",
       "        text-align: right;\n",
       "    }\n",
       "</style>\n",
       "<table border=\"1\" class=\"dataframe\">\n",
       "  <thead>\n",
       "    <tr style=\"text-align: right;\">\n",
       "      <th></th>\n",
       "      <th>high</th>\n",
       "      <th>low</th>\n",
       "      <th>sum</th>\n",
       "    </tr>\n",
       "  </thead>\n",
       "  <tbody>\n",
       "    <tr>\n",
       "      <th>0</th>\n",
       "      <td>31</td>\n",
       "      <td>15</td>\n",
       "      <td>15.5703</td>\n",
       "    </tr>\n",
       "    <tr>\n",
       "      <th>1</th>\n",
       "      <td>203</td>\n",
       "      <td>56</td>\n",
       "      <td>37.3513</td>\n",
       "    </tr>\n",
       "    <tr>\n",
       "      <th>2</th>\n",
       "      <td>239</td>\n",
       "      <td>219</td>\n",
       "      <td>26.7838</td>\n",
       "    </tr>\n",
       "    <tr>\n",
       "      <th>3</th>\n",
       "      <td>382</td>\n",
       "      <td>273</td>\n",
       "      <td>70.3936</td>\n",
       "    </tr>\n",
       "  </tbody>\n",
       "</table>\n",
       "</div>"
      ],
      "text/plain": [
       "   high  low      sum\n",
       "0    31   15  15.5703\n",
       "1   203   56  37.3513\n",
       "2   239  219  26.7838\n",
       "3   382  273  70.3936"
      ]
     },
     "execution_count": 5,
     "metadata": {},
     "output_type": "execute_result"
    }
   ],
   "source": [
    "num_splits = 2\n",
    "split_regions = get_splits(data, num_splits)\n",
    "splits = split_regions[split_regions['sum'] > 0]\n",
    "total_sum = sum(splits['sum'])\n",
    "splits"
   ]
  },
  {
   "cell_type": "code",
   "execution_count": 6,
   "metadata": {},
   "outputs": [
    {
     "data": {
      "image/png": "[encoded data removed]",
      "text/plain": [
       "<Figure size 432x288 with 1 Axes>"
      ]
     },
     "metadata": {
      "needs_background": "light"
     },
     "output_type": "display_data"
    }
   ],
   "source": [
    "fig, ax = plt.subplots()\n",
    "date_data.adj_close.plot()\n",
    "\n",
    "# add dollar sign to y axis labels\n",
    "formatter = ticker.FormatStrFormatter('$%.f')\n",
    "ax.yaxis.set_major_formatter(formatter)\n",
    "\n",
    "# put dollar amount labels on the right\n",
    "ax.tick_params(left=False, right=True)\n",
    "for tick in ax.yaxis.get_major_ticks():\n",
    "    tick.label1On = False\n",
    "    tick.label2On = True\n",
    "\n",
    "# add highlight box for hold period\n",
    "for i in range(len(splits)):\n",
    "    low = splits.loc[i, 'low']\n",
    "    high = splits.loc[i, 'high']\n",
    "    plt.axvspan(date_data.index[low-1], date_data.index[high], color='green', alpha=0.1)\n",
    "plt.title(f'{symbol}, total gain = \\${total_sum:.2f}')\n",
    "\n",
    "plt.savefig('test.svg')\n",
    "plt.show()"
   ]
  }
 ],
 "metadata": {
  "kernelspec": {
   "display_name": "Python 3",
   "language": "python",
   "name": "python3"
  },
  "language_info": {
   "codemirror_mode": {
    "name": "ipython",
    "version": 3
   },
   "file_extension": ".py",
   "mimetype": "text/x-python",
   "name": "python",
   "nbconvert_exporter": "python",
   "pygments_lexer": "ipython3",
   "version": "3.6.8"
  }
 },
 "nbformat": 4,
 "nbformat_minor": 2
}
