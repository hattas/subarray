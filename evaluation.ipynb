{
 "cells": [
  {
   "cell_type": "code",
   "execution_count": 1,
   "metadata": {},
   "outputs": [],
   "source": [
    "from algs import *\n",
    "from data import *\n",
    "from plot import *\n",
    "import numpy as np\n",
    "import pandas as pd"
   ]
  },
  {
   "cell_type": "code",
   "execution_count": 2,
   "metadata": {},
   "outputs": [],
   "source": [
    "# create dataframe of example from Introduction to Algorithms\n",
    "adj_close = [100, 113, 110, 85, 105, 102, 86, 63, 81, 101, 94, 106, 101, 79, 94, 90, 97]\n",
    "data = pd.DataFrame({'adj_close':adj_close})\n",
    "data = add_changes(data).dropna().reset_index()"
   ]
  },
  {
   "cell_type": "code",
   "execution_count": 3,
   "metadata": {},
   "outputs": [],
   "source": [
    "def max_sub_brute_force(A):\n",
    "    max_sum = -np.inf\n",
    "    for i in range(len(A)):\n",
    "        for j in range(i, len(A)):\n",
    "            subarray = A[i:j+1]\n",
    "            sub_sum = np.sum(subarray)\n",
    "            if sub_sum > max_sum:\n",
    "                max_i = i\n",
    "                max_j = j\n",
    "                max_sum = sub_sum\n",
    "    return (max_i, max_j, max_sum)\n",
    "\n",
    "def evaluate_correctness(changes):\n",
    "    return find_maximum_subarray(changes, return_type=tuple) == max_sub_brute_force(changes)    "
   ]
  },
  {
   "cell_type": "code",
   "execution_count": 4,
   "metadata": {},
   "outputs": [
    {
     "data": {
      "text/plain": [
       "True"
      ]
     },
     "execution_count": 4,
     "metadata": {},
     "output_type": "execute_result"
    }
   ],
   "source": [
    "evaluate_correctness(data.change)"
   ]
  }
 ],
 "metadata": {
  "kernelspec": {
   "display_name": "Python 3",
   "language": "python",
   "name": "python3"
  },
  "language_info": {
   "codemirror_mode": {
    "name": "ipython",
    "version": 3
   },
   "file_extension": ".py",
   "mimetype": "text/x-python",
   "name": "python",
   "nbconvert_exporter": "python",
   "pygments_lexer": "ipython3",
   "version": "3.6.8"
  }
 },
 "nbformat": 4,
 "nbformat_minor": 2
}
